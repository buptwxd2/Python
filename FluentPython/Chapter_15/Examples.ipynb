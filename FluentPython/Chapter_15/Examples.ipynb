{
 "cells": [
  {
   "cell_type": "markdown",
   "metadata": {},
   "source": [
    "## context manager and with blocks"
   ]
  },
  {
   "cell_type": "code",
   "execution_count": 2,
   "metadata": {},
   "outputs": [],
   "source": [
    "filename = 'test.txt'"
   ]
  },
  {
   "cell_type": "code",
   "execution_count": 4,
   "metadata": {},
   "outputs": [],
   "source": [
    "with open(filename) as fp:\n",
    "    src = fp.read()"
   ]
  },
  {
   "cell_type": "code",
   "execution_count": 5,
   "metadata": {},
   "outputs": [
    {
     "data": {
      "text/plain": [
       "'This is line#0\\nThis is line#1'"
      ]
     },
     "execution_count": 5,
     "metadata": {},
     "output_type": "execute_result"
    }
   ],
   "source": [
    "src"
   ]
  },
  {
   "cell_type": "markdown",
   "metadata": {},
   "source": [
    "## the context manager object is the result of evaluating the expression after with\n",
    "## 这样说的话，open(filename)返回的对象是context manager"
   ]
  },
  {
   "cell_type": "markdown",
   "metadata": {},
   "source": [
    "## but the value bound to the target variable is the result of calling __enter__ on the context manager"
   ]
  },
  {
   "cell_type": "markdown",
   "metadata": {},
   "source": [
    "## when exits the with block, the __exit__ method is invoked on the context manager, not on whatever is returned by __enter__"
   ]
  },
  {
   "cell_type": "code",
   "execution_count": 4,
   "metadata": {},
   "outputs": [],
   "source": [
    "test_f = open(filename)"
   ]
  },
  {
   "cell_type": "code",
   "execution_count": 5,
   "metadata": {},
   "outputs": [
    {
     "name": "stdout",
     "output_type": "stream",
     "text": [
      "Help on built-in function __enter__:\n",
      "\n",
      "__enter__(...) method of _io.TextIOWrapper instance\n",
      "\n"
     ]
    }
   ],
   "source": [
    "help(test_f.__enter__)"
   ]
  },
  {
   "cell_type": "code",
   "execution_count": 7,
   "metadata": {},
   "outputs": [
    {
     "name": "stdout",
     "output_type": "stream",
     "text": [
      "Help on built-in function __exit__:\n",
      "\n",
      "__exit__(...) method of _io.TextIOWrapper instance\n",
      "\n"
     ]
    }
   ],
   "source": [
    "help(test_f.__exit__)"
   ]
  },
  {
   "cell_type": "markdown",
   "metadata": {},
   "source": [
    "## Example 15-2"
   ]
  },
  {
   "cell_type": "code",
   "execution_count": 11,
   "metadata": {},
   "outputs": [],
   "source": [
    "class LookingGlass:\n",
    "    \n",
    "    def __enter__(self):\n",
    "        self.original_write = sys.stdout_write\n",
    "        sys.stdout_write = self.reverse_write\n",
    "        return 'ABCD'\n",
    "    \n",
    "    def reverse_write(self, text):\n",
    "        self.original_write(text[::-1])\n",
    "    \n",
    "    def __exit__(self, exc_type, exc_value, traceback):\n",
    "        import sys\n",
    "        sys.stdout_write = self.original_write\n",
    "        if exc_type is ZeroDivisionError:\n",
    "            print(\"Please DO NOT divide by zero\")\n",
    "            return True\n",
    "        \n",
    "        return None  # anything but True means exception is not handled, exception will be propagated"
   ]
  },
  {
   "cell_type": "code",
   "execution_count": null,
   "metadata": {},
   "outputs": [],
   "source": []
  }
 ],
 "metadata": {
  "kernelspec": {
   "display_name": "Python 3",
   "language": "python",
   "name": "python3"
  },
  "language_info": {
   "codemirror_mode": {
    "name": "ipython",
    "version": 3
   },
   "file_extension": ".py",
   "mimetype": "text/x-python",
   "name": "python",
   "nbconvert_exporter": "python",
   "pygments_lexer": "ipython3",
   "version": "3.6.2"
  }
 },
 "nbformat": 4,
 "nbformat_minor": 2
}
