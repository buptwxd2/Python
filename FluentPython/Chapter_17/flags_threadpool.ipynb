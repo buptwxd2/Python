{
 "cells": [
  {
   "cell_type": "code",
   "execution_count": 46,
   "metadata": {},
   "outputs": [],
   "source": [
    "from concurrent import futures\n",
    "\n",
    "from flags import get_flag, save_flag, show, main\n",
    "\n",
    "MAX_WORKERS = 20"
   ]
  },
  {
   "cell_type": "code",
   "execution_count": 47,
   "metadata": {},
   "outputs": [],
   "source": [
    "def download_one(cc):\n",
    "    image = get_flag(cc)\n",
    "    show(cc)\n",
    "    save_flag(image, cc.lower()+ '.gif')\n",
    "    \n",
    "    return cc"
   ]
  },
  {
   "cell_type": "code",
   "execution_count": 48,
   "metadata": {},
   "outputs": [],
   "source": [
    "def download_many(cc_list):\n",
    "    workers = min(MAX_WORKERS, len(cc_list))\n",
    "    with futures.ThreadPoolExecutor(workers) as executor:\n",
    "        res = executor.map(download_one, sorted(cc_list))  # res is an iterator, each is the return of download_one\n",
    "        \n",
    "    return len(list(res))"
   ]
  },
  {
   "cell_type": "code",
   "execution_count": 49,
   "metadata": {
    "scrolled": true
   },
   "outputs": [
    {
     "name": "stdout",
     "output_type": "stream",
     "text": [
      "ID DE FR ET BD CN IN CD JP TR VN PK RU US PH IR MX NG EG BR \n",
      "20 flags downloaded in 1.64s\n"
     ]
    }
   ],
   "source": [
    "if __name__ == '__main__':\n",
    "    main(download_many)"
   ]
  },
  {
   "cell_type": "code",
   "execution_count": 28,
   "metadata": {},
   "outputs": [
    {
     "data": {
      "text/plain": [
       "['ALL_COMPLETED',\n",
       " 'BrokenExecutor',\n",
       " 'CancelledError',\n",
       " 'Executor',\n",
       " 'FIRST_COMPLETED',\n",
       " 'FIRST_EXCEPTION',\n",
       " 'Future',\n",
       " 'ProcessPoolExecutor',\n",
       " 'ThreadPoolExecutor',\n",
       " 'TimeoutError',\n",
       " '__author__',\n",
       " '__doc__',\n",
       " 'as_completed',\n",
       " 'wait']"
      ]
     },
     "execution_count": 28,
     "metadata": {},
     "output_type": "execute_result"
    }
   ],
   "source": [
    "dir(futures)"
   ]
  },
  {
   "cell_type": "markdown",
   "metadata": {},
   "source": [
    "## 17-4"
   ]
  },
  {
   "cell_type": "code",
   "execution_count": 32,
   "metadata": {},
   "outputs": [],
   "source": [
    "def download_many(cc_list):\n",
    "    cc_list = cc_list[:5]\n",
    "    with futures.ThreadPoolExecutor(max_workers=3) as executor:\n",
    "        to_do = []\n",
    "        for cc in sorted(cc_list):\n",
    "            future = executor.submit(download_one, cc)\n",
    "            to_do.append(future)\n",
    "            msg = \"Scheduled for {}: {}\"\n",
    "            print(msg.format(cc, future))\n",
    "            \n",
    "        results = []\n",
    "        for future in futures.as_completed(to_do):\n",
    "            res = future.result()\n",
    "            msg = \"{} results: {!r}\"\n",
    "            print(msg.format(future, res))\n",
    "            results.append(res)\n",
    "    \n",
    "    return len(results)"
   ]
  },
  {
   "cell_type": "code",
   "execution_count": 33,
   "metadata": {
    "scrolled": true
   },
   "outputs": [
    {
     "name": "stdout",
     "output_type": "stream",
     "text": [
      "Scheduled for BR: <Future at 0x7004790 state=running>\n",
      "Scheduled for CN: <Future at 0x6ffcc30 state=running>\n",
      "Scheduled for ID: <Future at 0x6fc8270 state=running>\n",
      "Scheduled for IN: <Future at 0x6ce7ef0 state=pending>\n",
      "Scheduled for US: <Future at 0x6ce7f10 state=pending>\n",
      "CNBR  <Future at 0x7004790 state=finished returned str> results: 'BR'\n",
      "<Future at 0x6ffcc30 state=finished returned str> results: 'CN'\n",
      "ID <Future at 0x6fc8270 state=finished returned str> results: 'ID'\n",
      "IN <Future at 0x6ce7ef0 state=finished returned str> results: 'IN'\n",
      "US <Future at 0x6ce7f10 state=finished returned str> results: 'US'\n",
      "\n",
      "5 flags downloaded in 1.30s\n"
     ]
    }
   ],
   "source": [
    "main(download_many)"
   ]
  },
  {
   "cell_type": "code",
   "execution_count": 50,
   "metadata": {},
   "outputs": [],
   "source": [
    "import os"
   ]
  },
  {
   "cell_type": "code",
   "execution_count": 52,
   "metadata": {},
   "outputs": [
    {
     "data": {
      "text/plain": [
       "6"
      ]
     },
     "execution_count": 52,
     "metadata": {},
     "output_type": "execute_result"
    }
   ],
   "source": [
    "os.cpu_count()"
   ]
  },
  {
   "cell_type": "markdown",
   "metadata": {},
   "source": [
    "## 17-6 demo_executor_map"
   ]
  },
  {
   "cell_type": "code",
   "execution_count": 58,
   "metadata": {},
   "outputs": [],
   "source": [
    "from time import sleep, strftime\n",
    "from concurrent import futures"
   ]
  },
  {
   "cell_type": "code",
   "execution_count": 60,
   "metadata": {},
   "outputs": [],
   "source": [
    "def display(*args):\n",
    "    print(strftime('[%H:%M:%S]'), end=' ')\n",
    "    print(*args)\n",
    "\n",
    "def loiter(n):\n",
    "    msg = \"{}loiter({}): doing nothing for {}s...\"\n",
    "    display(msg.format('\\t'*n, n, n))\n",
    "    sleep(n)\n",
    "    msg = \"{}loiter({}): done\"\n",
    "    display(msg.format('\\t'*n, n))\n",
    "    return n * 10\n",
    "    \n",
    "def main():\n",
    "    display(\"Script starting.\")\n",
    "    executor = futures.ThreadPoolExecutor(max_workers=3)\n",
    "    results = executor.map(loiter, range(5))\n",
    "    display(\"results:\", results)\n",
    "    display(\"waiting for individual results:\")\n",
    "    for i, result in enumerate(results):\n",
    "        display(\"result {}:{}\".format(i, result))"
   ]
  },
  {
   "cell_type": "code",
   "execution_count": 61,
   "metadata": {},
   "outputs": [
    {
     "name": "stdout",
     "output_type": "stream",
     "text": [
      "[12:27:19] Script starting.\n",
      "[12:27:19] loiter(0): doing nothing for 0s...\n",
      "[12:27:19] \tloiter(1): doing nothing for 1s...\n",
      "[12:27:19] loiter(0): done\n",
      "[12:27:19] \t\tloiter(2): doing nothing for 2s...\n",
      "[12:27:19] results: <generator object Executor.map.<locals>.result_iterator at 0x0706FD70>\n",
      "[12:27:19] waiting for individual results:\n",
      "[12:27:19] result 0:0\n",
      "[12:27:19] \t\t\tloiter(3): doing nothing for 3s...\n",
      "[12:27:20] \tloiter(1): done\n",
      "[12:27:20] \t\t\t\tloiter(4): doing nothing for 4s...\n",
      "[12:27:20] result 1:10\n",
      "[12:27:21] \t\tloiter(2): done\n",
      "[12:27:21] result 2:20\n",
      "[12:27:22] \t\t\tloiter(3): done\n",
      "[12:27:22] result 3:30\n",
      "[12:27:24] \t\t\t\tloiter(4): done\n",
      "[12:27:24] result 4:40\n"
     ]
    }
   ],
   "source": [
    "main()"
   ]
  },
  {
   "cell_type": "code",
   "execution_count": null,
   "metadata": {},
   "outputs": [],
   "source": []
  }
 ],
 "metadata": {
  "kernelspec": {
   "display_name": "Python 3",
   "language": "python",
   "name": "python3"
  },
  "language_info": {
   "codemirror_mode": {
    "name": "ipython",
    "version": 3
   },
   "file_extension": ".py",
   "mimetype": "text/x-python",
   "name": "python",
   "nbconvert_exporter": "python",
   "pygments_lexer": "ipython3",
   "version": "3.7.3"
  }
 },
 "nbformat": 4,
 "nbformat_minor": 2
}
