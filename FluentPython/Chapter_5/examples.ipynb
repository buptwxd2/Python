{
 "cells": [
  {
   "cell_type": "markdown",
   "metadata": {},
   "source": [
    "## Example 5-17"
   ]
  },
  {
   "cell_type": "code",
   "execution_count": 2,
   "metadata": {},
   "outputs": [],
   "source": [
    "from inspect import signature"
   ]
  },
  {
   "cell_type": "code",
   "execution_count": 11,
   "metadata": {},
   "outputs": [],
   "source": [
    "def foo(a, b=None, *args, d=2, **kwargs):\n",
    "    print(a, b, args, d, kwargs)"
   ]
  },
  {
   "cell_type": "code",
   "execution_count": 12,
   "metadata": {},
   "outputs": [
    {
     "name": "stdout",
     "output_type": "stream",
     "text": [
      "Help on function signature in module inspect:\n",
      "\n",
      "signature(obj, *, follow_wrapped=True)\n",
      "    Get a signature object for the passed callable.\n",
      "\n"
     ]
    }
   ],
   "source": [
    "help(signature)"
   ]
  },
  {
   "cell_type": "code",
   "execution_count": 13,
   "metadata": {},
   "outputs": [],
   "source": [
    "sig = signature(foo)"
   ]
  },
  {
   "cell_type": "code",
   "execution_count": 14,
   "metadata": {},
   "outputs": [
    {
     "data": {
      "text/plain": [
       "'(a, b=None, *args, d=2, **kwargs)'"
      ]
     },
     "execution_count": 14,
     "metadata": {},
     "output_type": "execute_result"
    }
   ],
   "source": [
    "str(sig)"
   ]
  },
  {
   "cell_type": "code",
   "execution_count": 15,
   "metadata": {},
   "outputs": [
    {
     "name": "stdout",
     "output_type": "stream",
     "text": [
      "POSITIONAL_OR_KEYWORD : a = <class 'inspect._empty'>\n",
      "POSITIONAL_OR_KEYWORD : b = None\n",
      "VAR_POSITIONAL : args = <class 'inspect._empty'>\n",
      "KEYWORD_ONLY : d = 2\n",
      "VAR_KEYWORD : kwargs = <class 'inspect._empty'>\n"
     ]
    }
   ],
   "source": [
    "for name, param in sig.parameters.items():\n",
    "    print(param.kind, \":\", name, '=', param.default)"
   ]
  },
  {
   "cell_type": "code",
   "execution_count": 16,
   "metadata": {},
   "outputs": [
    {
     "data": {
      "text/plain": [
       "(None,)"
      ]
     },
     "execution_count": 16,
     "metadata": {},
     "output_type": "execute_result"
    }
   ],
   "source": [
    "foo.__defaults__"
   ]
  },
  {
   "cell_type": "code",
   "execution_count": 17,
   "metadata": {},
   "outputs": [
    {
     "data": {
      "text/plain": [
       "{'d': 2}"
      ]
     },
     "execution_count": 17,
     "metadata": {},
     "output_type": "execute_result"
    }
   ],
   "source": [
    "foo.__kwdefaults__"
   ]
  },
  {
   "cell_type": "code",
   "execution_count": 18,
   "metadata": {},
   "outputs": [
    {
     "data": {
      "text/plain": [
       "2"
      ]
     },
     "execution_count": 18,
     "metadata": {},
     "output_type": "execute_result"
    }
   ],
   "source": [
    "foo.__code__.co_argcount"
   ]
  },
  {
   "cell_type": "code",
   "execution_count": 20,
   "metadata": {},
   "outputs": [
    {
     "data": {
      "text/plain": [
       "('a', 'b', 'd', 'args', 'kwargs')"
      ]
     },
     "execution_count": 20,
     "metadata": {},
     "output_type": "execute_result"
    }
   ],
   "source": [
    "foo.__code__.co_varnames"
   ]
  },
  {
   "cell_type": "markdown",
   "metadata": {},
   "source": [
    "## Example 5-18"
   ]
  },
  {
   "cell_type": "code",
   "execution_count": 21,
   "metadata": {},
   "outputs": [],
   "source": [
    "import inspect"
   ]
  },
  {
   "cell_type": "code",
   "execution_count": 22,
   "metadata": {},
   "outputs": [],
   "source": [
    "# BEGIN TAG_FUNC\n",
    "def tag(name, *content, cls=None, **attrs):\n",
    "    \"\"\"Generate one or more HTML tags\"\"\"\n",
    "    if cls is not None:\n",
    "        attrs['class'] = cls\n",
    "    if attrs:\n",
    "        attr_str = ''.join(' %s=\"%s\"' % (attr, value)\n",
    "                           for attr, value\n",
    "                           in sorted(attrs.items()))\n",
    "    else:\n",
    "        attr_str = ''\n",
    "    if content:\n",
    "        return '\\n'.join('<%s%s>%s</%s>' %\n",
    "                         (name, attr_str, c, name) for c in content)\n",
    "    else:\n",
    "        return '<%s%s />' % (name, attr_str)\n",
    "# END TAG_FUNC"
   ]
  },
  {
   "cell_type": "markdown",
   "metadata": {},
   "source": [
    "## Function Annotations\n",
    "## 函数注解"
   ]
  },
  {
   "cell_type": "code",
   "execution_count": 23,
   "metadata": {},
   "outputs": [],
   "source": [
    "def clip(text:str, max_len:'int > 0'=80) -> str:  # <1>\n",
    "    \"\"\"Return text clipped at the last space before or after max_len\n",
    "    \"\"\"\n",
    "    end = None\n",
    "    if len(text) > max_len:\n",
    "        space_before = text.rfind(' ', 0, max_len)\n",
    "        if space_before >= 0:\n",
    "            end = space_before\n",
    "        else:\n",
    "            space_after = text.rfind(' ', max_len)\n",
    "            if space_after >= 0:\n",
    "                end = space_after\n",
    "    if end is None:  # no spaces were found\n",
    "        end = len(text)\n",
    "    return text[:end].rstrip()"
   ]
  },
  {
   "cell_type": "code",
   "execution_count": 26,
   "metadata": {},
   "outputs": [
    {
     "data": {
      "text/plain": [
       "'abc'"
      ]
     },
     "execution_count": 26,
     "metadata": {},
     "output_type": "execute_result"
    }
   ],
   "source": [
    "clip('abc', 20)  # annotation does not do processing"
   ]
  },
  {
   "cell_type": "code",
   "execution_count": 27,
   "metadata": {},
   "outputs": [
    {
     "data": {
      "text/plain": [
       "{'text': str, 'max_len': 'int > 0', 'return': str}"
      ]
     },
     "execution_count": 27,
     "metadata": {},
     "output_type": "execute_result"
    }
   ],
   "source": [
    "clip.__annotations__"
   ]
  },
  {
   "cell_type": "markdown",
   "metadata": {},
   "source": [
    "## Functional Programming 函数式编程"
   ]
  },
  {
   "cell_type": "code",
   "execution_count": 31,
   "metadata": {},
   "outputs": [],
   "source": [
    "from functools import reduce\n",
    "from operator import mul\n",
    "\n",
    "def fact(n):\n",
    "    return reduce(mul, range(1, n+1))"
   ]
  },
  {
   "cell_type": "code",
   "execution_count": 32,
   "metadata": {},
   "outputs": [
    {
     "data": {
      "text/plain": [
       "120"
      ]
     },
     "execution_count": 32,
     "metadata": {},
     "output_type": "execute_result"
    }
   ],
   "source": [
    "fact(5)"
   ]
  },
  {
   "cell_type": "code",
   "execution_count": 33,
   "metadata": {},
   "outputs": [],
   "source": [
    "from operator import itemgetter"
   ]
  },
  {
   "cell_type": "code",
   "execution_count": 34,
   "metadata": {},
   "outputs": [
    {
     "name": "stdout",
     "output_type": "stream",
     "text": [
      "Help on class itemgetter in module operator:\n",
      "\n",
      "class itemgetter(builtins.object)\n",
      " |  itemgetter(item, ...) --> itemgetter object\n",
      " |  \n",
      " |  Return a callable object that fetches the given item(s) from its operand.\n",
      " |  After f = itemgetter(2), the call f(r) returns r[2].\n",
      " |  After g = itemgetter(2, 5, 3), the call g(r) returns (r[2], r[5], r[3])\n",
      " |  \n",
      " |  Methods defined here:\n",
      " |  \n",
      " |  __call__(self, /, *args, **kwargs)\n",
      " |      Call self as a function.\n",
      " |  \n",
      " |  __getattribute__(self, name, /)\n",
      " |      Return getattr(self, name).\n",
      " |  \n",
      " |  __reduce__(...)\n",
      " |      Return state information for pickling\n",
      " |  \n",
      " |  __repr__(self, /)\n",
      " |      Return repr(self).\n",
      " |  \n",
      " |  ----------------------------------------------------------------------\n",
      " |  Static methods defined here:\n",
      " |  \n",
      " |  __new__(*args, **kwargs) from builtins.type\n",
      " |      Create and return a new object.  See help(type) for accurate signature.\n",
      "\n"
     ]
    }
   ],
   "source": [
    "help(itemgetter)"
   ]
  },
  {
   "cell_type": "code",
   "execution_count": 38,
   "metadata": {},
   "outputs": [
    {
     "data": {
      "text/plain": [
       "'c'"
      ]
     },
     "execution_count": 38,
     "metadata": {},
     "output_type": "execute_result"
    }
   ],
   "source": [
    "itemgetter(2)(list('abc'))"
   ]
  },
  {
   "cell_type": "code",
   "execution_count": 39,
   "metadata": {},
   "outputs": [],
   "source": [
    "from collections import namedtuple"
   ]
  },
  {
   "cell_type": "code",
   "execution_count": 40,
   "metadata": {},
   "outputs": [
    {
     "name": "stdout",
     "output_type": "stream",
     "text": [
      "Help on function namedtuple in module collections:\n",
      "\n",
      "namedtuple(typename, field_names, *, rename=False, defaults=None, module=None)\n",
      "    Returns a new subclass of tuple with named fields.\n",
      "    \n",
      "    >>> Point = namedtuple('Point', ['x', 'y'])\n",
      "    >>> Point.__doc__                   # docstring for the new class\n",
      "    'Point(x, y)'\n",
      "    >>> p = Point(11, y=22)             # instantiate with positional args or keywords\n",
      "    >>> p[0] + p[1]                     # indexable like a plain tuple\n",
      "    33\n",
      "    >>> x, y = p                        # unpack like a regular tuple\n",
      "    >>> x, y\n",
      "    (11, 22)\n",
      "    >>> p.x + p.y                       # fields also accessible by name\n",
      "    33\n",
      "    >>> d = p._asdict()                 # convert to a dictionary\n",
      "    >>> d['x']\n",
      "    11\n",
      "    >>> Point(**d)                      # convert from a dictionary\n",
      "    Point(x=11, y=22)\n",
      "    >>> p._replace(x=100)               # _replace() is like str.replace() but targets named fields\n",
      "    Point(x=100, y=22)\n",
      "\n"
     ]
    }
   ],
   "source": [
    "help(namedtuple)"
   ]
  },
  {
   "cell_type": "code",
   "execution_count": 41,
   "metadata": {},
   "outputs": [],
   "source": [
    "from functools import partial"
   ]
  },
  {
   "cell_type": "code",
   "execution_count": 42,
   "metadata": {},
   "outputs": [
    {
     "name": "stdout",
     "output_type": "stream",
     "text": [
      "Help on class partial in module functools:\n",
      "\n",
      "class partial(builtins.object)\n",
      " |  partial(func, *args, **keywords) - new function with partial application\n",
      " |  of the given arguments and keywords.\n",
      " |  \n",
      " |  Methods defined here:\n",
      " |  \n",
      " |  __call__(self, /, *args, **kwargs)\n",
      " |      Call self as a function.\n",
      " |  \n",
      " |  __delattr__(self, name, /)\n",
      " |      Implement delattr(self, name).\n",
      " |  \n",
      " |  __getattribute__(self, name, /)\n",
      " |      Return getattr(self, name).\n",
      " |  \n",
      " |  __reduce__(...)\n",
      " |      Helper for pickle.\n",
      " |  \n",
      " |  __repr__(self, /)\n",
      " |      Return repr(self).\n",
      " |  \n",
      " |  __setattr__(self, name, value, /)\n",
      " |      Implement setattr(self, name, value).\n",
      " |  \n",
      " |  __setstate__(...)\n",
      " |  \n",
      " |  ----------------------------------------------------------------------\n",
      " |  Static methods defined here:\n",
      " |  \n",
      " |  __new__(*args, **kwargs) from builtins.type\n",
      " |      Create and return a new object.  See help(type) for accurate signature.\n",
      " |  \n",
      " |  ----------------------------------------------------------------------\n",
      " |  Data descriptors defined here:\n",
      " |  \n",
      " |  __dict__\n",
      " |  \n",
      " |  args\n",
      " |      tuple of arguments to future partial calls\n",
      " |  \n",
      " |  func\n",
      " |      function object to use in future partial calls\n",
      " |  \n",
      " |  keywords\n",
      " |      dictionary of keyword arguments to future partial calls\n",
      "\n"
     ]
    }
   ],
   "source": [
    "help(partial)"
   ]
  },
  {
   "cell_type": "code",
   "execution_count": 43,
   "metadata": {},
   "outputs": [
    {
     "name": "stdout",
     "output_type": "stream",
     "text": [
      "Help on built-in function mul in module _operator:\n",
      "\n",
      "mul(a, b, /)\n",
      "    Same as a * b.\n",
      "\n"
     ]
    }
   ],
   "source": [
    "help(mul)"
   ]
  },
  {
   "cell_type": "code",
   "execution_count": 45,
   "metadata": {},
   "outputs": [],
   "source": [
    "triple = partial(mul,3)"
   ]
  },
  {
   "cell_type": "code",
   "execution_count": 46,
   "metadata": {},
   "outputs": [
    {
     "data": {
      "text/plain": [
       "21"
      ]
     },
     "execution_count": 46,
     "metadata": {},
     "output_type": "execute_result"
    }
   ],
   "source": [
    "triple(7)"
   ]
  },
  {
   "cell_type": "code",
   "execution_count": 48,
   "metadata": {},
   "outputs": [
    {
     "data": {
      "text/plain": [
       "True"
      ]
     },
     "execution_count": 48,
     "metadata": {},
     "output_type": "execute_result"
    }
   ],
   "source": [
    "callable(triple)"
   ]
  },
  {
   "cell_type": "code",
   "execution_count": 49,
   "metadata": {},
   "outputs": [
    {
     "name": "stdout",
     "output_type": "stream",
     "text": [
      "Help on built-in function min in module builtins:\n",
      "\n",
      "min(...)\n",
      "    min(iterable, *[, default=obj, key=func]) -> value\n",
      "    min(arg1, arg2, *args, *[, key=func]) -> value\n",
      "    \n",
      "    With a single iterable argument, return its smallest item. The\n",
      "    default keyword-only argument specifies an object to return if\n",
      "    the provided iterable is empty.\n",
      "    With two or more arguments, return the smallest argument.\n",
      "\n"
     ]
    }
   ],
   "source": [
    "help(min)"
   ]
  },
  {
   "cell_type": "code",
   "execution_count": 52,
   "metadata": {},
   "outputs": [
    {
     "data": {
      "text/plain": [
       "3"
      ]
     },
     "execution_count": 52,
     "metadata": {},
     "output_type": "execute_result"
    }
   ],
   "source": [
    "min([1,2,3], key=lambda x: 3-x)"
   ]
  },
  {
   "cell_type": "code",
   "execution_count": 53,
   "metadata": {},
   "outputs": [
    {
     "name": "stdout",
     "output_type": "stream",
     "text": [
      "Help on built-in function globals in module builtins:\n",
      "\n",
      "globals()\n",
      "    Return the dictionary containing the current scope's global variables.\n",
      "    \n",
      "    NOTE: Updates to this dictionary *will* affect name lookups in the current\n",
      "    global scope and vice-versa.\n",
      "\n"
     ]
    }
   ],
   "source": [
    "help(globals)"
   ]
  },
  {
   "cell_type": "code",
   "execution_count": 54,
   "metadata": {},
   "outputs": [
    {
     "data": {
      "text/plain": [
       "{'__name__': '__main__',\n",
       " '__doc__': 'Automatically created module for IPython interactive environment',\n",
       " '__package__': None,\n",
       " '__loader__': None,\n",
       " '__spec__': None,\n",
       " '__builtin__': <module 'builtins' (built-in)>,\n",
       " '__builtins__': <module 'builtins' (built-in)>,\n",
       " '_ih': ['',\n",
       "  'from inpsect import signature',\n",
       "  'from inspect import signature',\n",
       "  'def foo(a, b=None, *args, d, **kwargs):\\n    print(a, b, args, d, kwargs)',\n",
       "  'help(signature)',\n",
       "  'sig = signature(foo)',\n",
       "  'sig',\n",
       "  'str(sig)',\n",
       "  'for name, param in sig.parameters.items():\\n    print(para.kind, \":\", name, \\'=\\', param.default)',\n",
       "  'for name, param in sig.parameters.items():\\n    print(param.kind, \":\", name, \\'=\\', param.default)',\n",
       "  'foo.__defaults__',\n",
       "  'def foo(a, b=None, *args, d=2, **kwargs):\\n    print(a, b, args, d, kwargs)',\n",
       "  'help(signature)',\n",
       "  'sig = signature(foo)',\n",
       "  'str(sig)',\n",
       "  'for name, param in sig.parameters.items():\\n    print(param.kind, \":\", name, \\'=\\', param.default)',\n",
       "  'foo.__defaults__',\n",
       "  'foo.__kwdefaults__',\n",
       "  'foo.__code__.co_argcount',\n",
       "  'foo.__code__.co_argcount',\n",
       "  'foo.__code__.co_varnames',\n",
       "  'import inspect',\n",
       "  '# BEGIN TAG_FUNC\\ndef tag(name, *content, cls=None, **attrs):\\n    \"\"\"Generate one or more HTML tags\"\"\"\\n    if cls is not None:\\n        attrs[\\'class\\'] = cls\\n    if attrs:\\n        attr_str = \\'\\'.join(\\' %s=\"%s\"\\' % (attr, value)\\n                           for attr, value\\n                           in sorted(attrs.items()))\\n    else:\\n        attr_str = \\'\\'\\n    if content:\\n        return \\'\\\\n\\'.join(\\'<%s%s>%s</%s>\\' %\\n                         (name, attr_str, c, name) for c in content)\\n    else:\\n        return \\'<%s%s />\\' % (name, attr_str)\\n# END TAG_FUNC',\n",
       "  'def clip(text:str, max_len:\\'int > 0\\'=80) -> str:  # <1>\\n    \"\"\"Return text clipped at the last space before or after max_len\\n    \"\"\"\\n    end = None\\n    if len(text) > max_len:\\n        space_before = text.rfind(\\' \\', 0, max_len)\\n        if space_before >= 0:\\n            end = space_before\\n        else:\\n            space_after = text.rfind(\\' \\', max_len)\\n            if space_after >= 0:\\n                end = space_after\\n    if end is None:  # no spaces were found\\n        end = len(text)\\n    return text[:end].rstrip()',\n",
       "  'clip(12, 20)',\n",
       "  \"clip('abc', 20)\",\n",
       "  \"clip('abc', 20)  # annotation does not do processing\",\n",
       "  'clip.__annotations__',\n",
       "  '## Functional Programming 函数式编程',\n",
       "  'help(operator)',\n",
       "  'from functools import reduce',\n",
       "  'from functools import reduce\\nfrom operator import mul\\n\\ndef fact(n):\\n    return reduce(mul, range(1, n+1))',\n",
       "  'fact(5)',\n",
       "  'from operator import itemgetter',\n",
       "  'help(itemgetter)',\n",
       "  \"itemgetter(2, list('abc'))\",\n",
       "  \"itemgetter(2, list('abc'))()\",\n",
       "  'itemgetter(2)()',\n",
       "  \"itemgetter(2)(list('abc'))\",\n",
       "  'from collections import namedtuple',\n",
       "  'help(namedtuple)',\n",
       "  'from functools import partial',\n",
       "  'help(partial)',\n",
       "  'help(mul)',\n",
       "  'mul(2,3)',\n",
       "  'triple = partial(mul,3)',\n",
       "  'triple(7)',\n",
       "  'type(triple)',\n",
       "  'callable(triple)',\n",
       "  'help(min)',\n",
       "  'min(1,2,3)',\n",
       "  'min(1,2,3, key=lambda x: 3-x)',\n",
       "  'min([1,2,3], key=lambda x: 3-x)',\n",
       "  'help(globals)',\n",
       "  'globals()'],\n",
       " '_oh': {6: <Signature (a, b=None, *args, d, **kwargs)>,\n",
       "  7: '(a, b=None, *args, d, **kwargs)',\n",
       "  10: (None,),\n",
       "  14: '(a, b=None, *args, d=2, **kwargs)',\n",
       "  16: (None,),\n",
       "  17: {'d': 2},\n",
       "  18: 2,\n",
       "  19: 2,\n",
       "  20: ('a', 'b', 'd', 'args', 'kwargs'),\n",
       "  25: 'abc',\n",
       "  26: 'abc',\n",
       "  27: {'text': str, 'max_len': 'int > 0', 'return': str},\n",
       "  32: 120,\n",
       "  35: operator.itemgetter(2, ['a', 'b', 'c']),\n",
       "  38: 'c',\n",
       "  44: 6,\n",
       "  46: 21,\n",
       "  47: functools.partial,\n",
       "  48: True,\n",
       "  50: 1,\n",
       "  51: 3,\n",
       "  52: 3},\n",
       " '_dh': ['C:\\\\Repos\\\\Python\\\\FluentPython\\\\Chapter_5'],\n",
       " 'In': ['',\n",
       "  'from inpsect import signature',\n",
       "  'from inspect import signature',\n",
       "  'def foo(a, b=None, *args, d, **kwargs):\\n    print(a, b, args, d, kwargs)',\n",
       "  'help(signature)',\n",
       "  'sig = signature(foo)',\n",
       "  'sig',\n",
       "  'str(sig)',\n",
       "  'for name, param in sig.parameters.items():\\n    print(para.kind, \":\", name, \\'=\\', param.default)',\n",
       "  'for name, param in sig.parameters.items():\\n    print(param.kind, \":\", name, \\'=\\', param.default)',\n",
       "  'foo.__defaults__',\n",
       "  'def foo(a, b=None, *args, d=2, **kwargs):\\n    print(a, b, args, d, kwargs)',\n",
       "  'help(signature)',\n",
       "  'sig = signature(foo)',\n",
       "  'str(sig)',\n",
       "  'for name, param in sig.parameters.items():\\n    print(param.kind, \":\", name, \\'=\\', param.default)',\n",
       "  'foo.__defaults__',\n",
       "  'foo.__kwdefaults__',\n",
       "  'foo.__code__.co_argcount',\n",
       "  'foo.__code__.co_argcount',\n",
       "  'foo.__code__.co_varnames',\n",
       "  'import inspect',\n",
       "  '# BEGIN TAG_FUNC\\ndef tag(name, *content, cls=None, **attrs):\\n    \"\"\"Generate one or more HTML tags\"\"\"\\n    if cls is not None:\\n        attrs[\\'class\\'] = cls\\n    if attrs:\\n        attr_str = \\'\\'.join(\\' %s=\"%s\"\\' % (attr, value)\\n                           for attr, value\\n                           in sorted(attrs.items()))\\n    else:\\n        attr_str = \\'\\'\\n    if content:\\n        return \\'\\\\n\\'.join(\\'<%s%s>%s</%s>\\' %\\n                         (name, attr_str, c, name) for c in content)\\n    else:\\n        return \\'<%s%s />\\' % (name, attr_str)\\n# END TAG_FUNC',\n",
       "  'def clip(text:str, max_len:\\'int > 0\\'=80) -> str:  # <1>\\n    \"\"\"Return text clipped at the last space before or after max_len\\n    \"\"\"\\n    end = None\\n    if len(text) > max_len:\\n        space_before = text.rfind(\\' \\', 0, max_len)\\n        if space_before >= 0:\\n            end = space_before\\n        else:\\n            space_after = text.rfind(\\' \\', max_len)\\n            if space_after >= 0:\\n                end = space_after\\n    if end is None:  # no spaces were found\\n        end = len(text)\\n    return text[:end].rstrip()',\n",
       "  'clip(12, 20)',\n",
       "  \"clip('abc', 20)\",\n",
       "  \"clip('abc', 20)  # annotation does not do processing\",\n",
       "  'clip.__annotations__',\n",
       "  '## Functional Programming 函数式编程',\n",
       "  'help(operator)',\n",
       "  'from functools import reduce',\n",
       "  'from functools import reduce\\nfrom operator import mul\\n\\ndef fact(n):\\n    return reduce(mul, range(1, n+1))',\n",
       "  'fact(5)',\n",
       "  'from operator import itemgetter',\n",
       "  'help(itemgetter)',\n",
       "  \"itemgetter(2, list('abc'))\",\n",
       "  \"itemgetter(2, list('abc'))()\",\n",
       "  'itemgetter(2)()',\n",
       "  \"itemgetter(2)(list('abc'))\",\n",
       "  'from collections import namedtuple',\n",
       "  'help(namedtuple)',\n",
       "  'from functools import partial',\n",
       "  'help(partial)',\n",
       "  'help(mul)',\n",
       "  'mul(2,3)',\n",
       "  'triple = partial(mul,3)',\n",
       "  'triple(7)',\n",
       "  'type(triple)',\n",
       "  'callable(triple)',\n",
       "  'help(min)',\n",
       "  'min(1,2,3)',\n",
       "  'min(1,2,3, key=lambda x: 3-x)',\n",
       "  'min([1,2,3], key=lambda x: 3-x)',\n",
       "  'help(globals)',\n",
       "  'globals()'],\n",
       " 'Out': {6: <Signature (a, b=None, *args, d, **kwargs)>,\n",
       "  7: '(a, b=None, *args, d, **kwargs)',\n",
       "  10: (None,),\n",
       "  14: '(a, b=None, *args, d=2, **kwargs)',\n",
       "  16: (None,),\n",
       "  17: {'d': 2},\n",
       "  18: 2,\n",
       "  19: 2,\n",
       "  20: ('a', 'b', 'd', 'args', 'kwargs'),\n",
       "  25: 'abc',\n",
       "  26: 'abc',\n",
       "  27: {'text': str, 'max_len': 'int > 0', 'return': str},\n",
       "  32: 120,\n",
       "  35: operator.itemgetter(2, ['a', 'b', 'c']),\n",
       "  38: 'c',\n",
       "  44: 6,\n",
       "  46: 21,\n",
       "  47: functools.partial,\n",
       "  48: True,\n",
       "  50: 1,\n",
       "  51: 3,\n",
       "  52: 3},\n",
       " 'get_ipython': <bound method InteractiveShell.get_ipython of <ipykernel.zmqshell.ZMQInteractiveShell object at 0x0485F3F0>>,\n",
       " 'exit': <IPython.core.autocall.ZMQExitAutocall at 0x4eb49b0>,\n",
       " 'quit': <IPython.core.autocall.ZMQExitAutocall at 0x4eb49b0>,\n",
       " '_': 3,\n",
       " '__': 3,\n",
       " '___': 1,\n",
       " '_i': 'help(globals)',\n",
       " '_ii': 'min([1,2,3], key=lambda x: 3-x)',\n",
       " '_iii': 'min(1,2,3, key=lambda x: 3-x)',\n",
       " '_i1': 'from inpsect import signature',\n",
       " '_i2': 'from inspect import signature',\n",
       " 'signature': <function inspect.signature(obj, *, follow_wrapped=True)>,\n",
       " '_i3': 'def foo(a, b=None, *args, d, **kwargs):\\n    print(a, b, args, d, kwargs)',\n",
       " 'foo': <function __main__.foo(a, b=None, *args, d=2, **kwargs)>,\n",
       " '_i4': 'help(signature)',\n",
       " '_i5': 'sig = signature(foo)',\n",
       " 'sig': <Signature (a, b=None, *args, d=2, **kwargs)>,\n",
       " '_i6': 'sig',\n",
       " '_6': <Signature (a, b=None, *args, d, **kwargs)>,\n",
       " '_i7': 'str(sig)',\n",
       " '_7': '(a, b=None, *args, d, **kwargs)',\n",
       " '_i8': 'for name, param in sig.parameters.items():\\n    print(para.kind, \":\", name, \\'=\\', param.default)',\n",
       " 'name': 'kwargs',\n",
       " 'param': <Parameter \"**kwargs\">,\n",
       " '_i9': 'for name, param in sig.parameters.items():\\n    print(param.kind, \":\", name, \\'=\\', param.default)',\n",
       " '_i10': 'foo.__defaults__',\n",
       " '_10': (None,),\n",
       " '_i11': 'def foo(a, b=None, *args, d=2, **kwargs):\\n    print(a, b, args, d, kwargs)',\n",
       " '_i12': 'help(signature)',\n",
       " '_i13': 'sig = signature(foo)',\n",
       " '_i14': 'str(sig)',\n",
       " '_14': '(a, b=None, *args, d=2, **kwargs)',\n",
       " '_i15': 'for name, param in sig.parameters.items():\\n    print(param.kind, \":\", name, \\'=\\', param.default)',\n",
       " '_i16': 'foo.__defaults__',\n",
       " '_16': (None,),\n",
       " '_i17': 'foo.__kwdefaults__',\n",
       " '_17': {'d': 2},\n",
       " '_i18': 'foo.__code__.co_argcount',\n",
       " '_18': 2,\n",
       " '_i19': 'foo.__code__.co_argcount',\n",
       " '_19': 2,\n",
       " '_i20': 'foo.__code__.co_varnames',\n",
       " '_20': ('a', 'b', 'd', 'args', 'kwargs'),\n",
       " '_i21': 'import inspect',\n",
       " 'inspect': <module 'inspect' from 'c:\\\\users\\\\alex\\\\appdata\\\\local\\\\programs\\\\python\\\\python37-32\\\\lib\\\\inspect.py'>,\n",
       " '_i22': '# BEGIN TAG_FUNC\\ndef tag(name, *content, cls=None, **attrs):\\n    \"\"\"Generate one or more HTML tags\"\"\"\\n    if cls is not None:\\n        attrs[\\'class\\'] = cls\\n    if attrs:\\n        attr_str = \\'\\'.join(\\' %s=\"%s\"\\' % (attr, value)\\n                           for attr, value\\n                           in sorted(attrs.items()))\\n    else:\\n        attr_str = \\'\\'\\n    if content:\\n        return \\'\\\\n\\'.join(\\'<%s%s>%s</%s>\\' %\\n                         (name, attr_str, c, name) for c in content)\\n    else:\\n        return \\'<%s%s />\\' % (name, attr_str)\\n# END TAG_FUNC',\n",
       " 'tag': <function __main__.tag(name, *content, cls=None, **attrs)>,\n",
       " '_i23': 'def clip(text:str, max_len:\\'int > 0\\'=80) -> str:  # <1>\\n    \"\"\"Return text clipped at the last space before or after max_len\\n    \"\"\"\\n    end = None\\n    if len(text) > max_len:\\n        space_before = text.rfind(\\' \\', 0, max_len)\\n        if space_before >= 0:\\n            end = space_before\\n        else:\\n            space_after = text.rfind(\\' \\', max_len)\\n            if space_after >= 0:\\n                end = space_after\\n    if end is None:  # no spaces were found\\n        end = len(text)\\n    return text[:end].rstrip()',\n",
       " 'clip': <function __main__.clip(text: str, max_len: 'int > 0' = 80) -> str>,\n",
       " '_i24': 'clip(12, 20)',\n",
       " '_i25': \"clip('abc', 20)\",\n",
       " '_25': 'abc',\n",
       " '_i26': \"clip('abc', 20)  # annotation does not do processing\",\n",
       " '_26': 'abc',\n",
       " '_i27': 'clip.__annotations__',\n",
       " '_27': {'text': str, 'max_len': 'int > 0', 'return': str},\n",
       " '_i28': '## Functional Programming 函数式编程',\n",
       " '_i29': 'help(operator)',\n",
       " '_i30': 'from functools import reduce',\n",
       " 'reduce': <function _functools.reduce>,\n",
       " '_i31': 'from functools import reduce\\nfrom operator import mul\\n\\ndef fact(n):\\n    return reduce(mul, range(1, n+1))',\n",
       " 'mul': <function _operator.mul(a, b, /)>,\n",
       " 'fact': <function __main__.fact(n)>,\n",
       " '_i32': 'fact(5)',\n",
       " '_32': 120,\n",
       " '_i33': 'from operator import itemgetter',\n",
       " 'itemgetter': operator.itemgetter,\n",
       " '_i34': 'help(itemgetter)',\n",
       " '_i35': \"itemgetter(2, list('abc'))\",\n",
       " '_35': operator.itemgetter(2, ['a', 'b', 'c']),\n",
       " '_i36': \"itemgetter(2, list('abc'))()\",\n",
       " '_i37': 'itemgetter(2)()',\n",
       " '_i38': \"itemgetter(2)(list('abc'))\",\n",
       " '_38': 'c',\n",
       " '_i39': 'from collections import namedtuple',\n",
       " 'namedtuple': <function collections.namedtuple(typename, field_names, *, rename=False, defaults=None, module=None)>,\n",
       " '_i40': 'help(namedtuple)',\n",
       " '_i41': 'from functools import partial',\n",
       " 'partial': functools.partial,\n",
       " '_i42': 'help(partial)',\n",
       " '_i43': 'help(mul)',\n",
       " '_i44': 'mul(2,3)',\n",
       " '_44': 6,\n",
       " '_i45': 'triple = partial(mul,3)',\n",
       " 'triple': functools.partial(<built-in function mul>, 3),\n",
       " '_i46': 'triple(7)',\n",
       " '_46': 21,\n",
       " '_i47': 'type(triple)',\n",
       " '_47': functools.partial,\n",
       " '_i48': 'callable(triple)',\n",
       " '_48': True,\n",
       " '_i49': 'help(min)',\n",
       " '_i50': 'min(1,2,3)',\n",
       " '_50': 1,\n",
       " '_i51': 'min(1,2,3, key=lambda x: 3-x)',\n",
       " '_51': 3,\n",
       " '_i52': 'min([1,2,3], key=lambda x: 3-x)',\n",
       " '_52': 3,\n",
       " '_i53': 'help(globals)',\n",
       " '_i54': 'globals()'}"
      ]
     },
     "execution_count": 54,
     "metadata": {},
     "output_type": "execute_result"
    }
   ],
   "source": [
    "globals()"
   ]
  },
  {
   "cell_type": "code",
   "execution_count": null,
   "metadata": {},
   "outputs": [],
   "source": []
  }
 ],
 "metadata": {
  "kernelspec": {
   "display_name": "Python 3",
   "language": "python",
   "name": "python3"
  },
  "language_info": {
   "codemirror_mode": {
    "name": "ipython",
    "version": 3
   },
   "file_extension": ".py",
   "mimetype": "text/x-python",
   "name": "python",
   "nbconvert_exporter": "python",
   "pygments_lexer": "ipython3",
   "version": "3.7.3"
  }
 },
 "nbformat": 4,
 "nbformat_minor": 2
}
