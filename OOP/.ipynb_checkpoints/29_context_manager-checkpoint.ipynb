{
 "cells": [
  {
   "cell_type": "code",
   "execution_count": 2,
   "metadata": {
    "scrolled": true
   },
   "outputs": [
    {
     "name": "stdout",
     "output_type": "stream",
     "text": [
      "calling __init__ method\n",
      "calling __enter__ method\n",
      "ready to write to file\n",
      "calling __exit__ method\n"
     ]
    }
   ],
   "source": [
    "class FileManager:\n",
    "    def __init__(self, name, mode):\n",
    "        print('calling __init__ method')\n",
    "        self.name = name\n",
    "        self.mode = mode \n",
    "        self.file = None\n",
    "        \n",
    "    def __enter__(self):\n",
    "        print('calling __enter__ method')\n",
    "        self.file = open(self.name, self.mode)\n",
    "        return self.file\n",
    "\n",
    "\n",
    "    def __exit__(self, exc_type, exc_val, exc_tb):\n",
    "        print('calling __exit__ method')\n",
    "        if self.file:\n",
    "            self.file.close()\n",
    "            \n",
    "with FileManager('test.txt', 'w') as f:\n",
    "    print('ready to write to file')\n",
    "    f.write('hello world')"
   ]
  },
  {
   "cell_type": "code",
   "execution_count": null,
   "metadata": {},
   "outputs": [],
   "source": [
    "with expression [as variable]:\n",
    "    with-block"
   ]
  },
  {
   "cell_type": "markdown",
   "metadata": {},
   "source": [
    "## Note that variable is not assigned the result of expression\n",
    "## Instead, the object's __enter__() is called before with-block is executed and its return value is bound to the variable"
   ]
  },
  {
   "cell_type": "code",
   "execution_count": 3,
   "metadata": {},
   "outputs": [
    {
     "name": "stdout",
     "output_type": "stream",
     "text": [
      "__init__ called\n",
      "__enter__ called\n",
      "__exit__ called\n",
      "exc_type: <class 'Exception'>\n",
      "exc_value: exception raised\n",
      "exc_traceback: <traceback object at 0x0000019A2BE08C88>\n",
      "exception handled\n"
     ]
    }
   ],
   "source": [
    "\n",
    "class Foo:\n",
    "    def __init__(self):\n",
    "        print('__init__ called')        \n",
    "\n",
    "    def __enter__(self):\n",
    "        print('__enter__ called')\n",
    "        return self\n",
    "    \n",
    "    def __exit__(self, exc_type, exc_value, exc_tb):\n",
    "        print('__exit__ called')\n",
    "        if exc_type:\n",
    "            print(f'exc_type: {exc_type}')\n",
    "            print(f'exc_value: {exc_value}')\n",
    "            print(f'exc_traceback: {exc_tb}')\n",
    "            print('exception handled')\n",
    "        return True\n",
    "    \n",
    "with Foo() as obj:\n",
    "    raise Exception('exception raised').with_traceback(None)\n"
   ]
  },
  {
   "cell_type": "code",
   "execution_count": 4,
   "metadata": {},
   "outputs": [
    {
     "name": "stdout",
     "output_type": "stream",
     "text": [
      "__init__ called\n",
      "__enter__ called\n",
      "__exit__ called\n",
      "exc_type: <class 'Exception'>\n",
      "exc_value: exception raised\n",
      "exc_traceback: <traceback object at 0x0000019A2BE08E48>\n",
      "exception handled\n"
     ]
    },
    {
     "ename": "Exception",
     "evalue": "exception raised",
     "output_type": "error",
     "traceback": [
      "\u001b[1;31m----------------------------------------------------------------------\u001b[0m",
      "\u001b[1;31mException\u001b[0m                            Traceback (most recent call last)",
      "\u001b[1;32m<ipython-input-4-8edad2849393>\u001b[0m in \u001b[0;36m<module>\u001b[1;34m()\u001b[0m\n\u001b[0;32m     18\u001b[0m \u001b[1;33m\u001b[0m\u001b[0m\n\u001b[0;32m     19\u001b[0m \u001b[1;32mwith\u001b[0m \u001b[0mFoo\u001b[0m\u001b[1;33m(\u001b[0m\u001b[1;33m)\u001b[0m \u001b[1;32mas\u001b[0m \u001b[0mobj\u001b[0m\u001b[1;33m:\u001b[0m\u001b[1;33m\u001b[0m\u001b[0m\n\u001b[1;32m---> 20\u001b[1;33m     \u001b[1;32mraise\u001b[0m \u001b[0mException\u001b[0m\u001b[1;33m(\u001b[0m\u001b[1;34m'exception raised'\u001b[0m\u001b[1;33m)\u001b[0m\u001b[1;33m.\u001b[0m\u001b[0mwith_traceback\u001b[0m\u001b[1;33m(\u001b[0m\u001b[1;32mNone\u001b[0m\u001b[1;33m)\u001b[0m\u001b[1;33m\u001b[0m\u001b[0m\n\u001b[0m",
      "\u001b[1;31mException\u001b[0m: exception raised"
     ]
    }
   ],
   "source": [
    "\n",
    "class Foo:\n",
    "    def __init__(self):\n",
    "        print('__init__ called')        \n",
    "\n",
    "    def __enter__(self):\n",
    "        print('__enter__ called')\n",
    "        return self\n",
    "    \n",
    "    def __exit__(self, exc_type, exc_value, exc_tb):\n",
    "        print('__exit__ called')\n",
    "        if exc_type:\n",
    "            print(f'exc_type: {exc_type}')\n",
    "            print(f'exc_value: {exc_value}')\n",
    "            print(f'exc_traceback: {exc_tb}')\n",
    "            print('exception handled')\n",
    "#         return True\n",
    "    \n",
    "with Foo() as obj:\n",
    "    raise Exception('exception raised').with_traceback(None)"
   ]
  },
  {
   "cell_type": "code",
   "execution_count": null,
   "metadata": {},
   "outputs": [],
   "source": [
    "\n",
    "class DBConnectionManager: \n",
    "    def __init__(self, hostname, port): \n",
    "        self.hostname = hostname \n",
    "        self.port = port \n",
    "        self.connection = None\n",
    "  \n",
    "    def __enter__(self): \n",
    "        self.connection = DBClient(self.hostname, self.port) \n",
    "        return self\n",
    "  \n",
    "    def __exit__(self, exc_type, exc_val, exc_tb): \n",
    "        self.connection.close() \n",
    "  \n",
    "with DBConnectionManager('localhost', '8080') as db_client: \n",
    "    pass"
   ]
  },
  {
   "cell_type": "markdown",
   "metadata": {},
   "source": [
    "## 基于生成器的上下文管理器"
   ]
  },
  {
   "cell_type": "code",
   "execution_count": 6,
   "metadata": {},
   "outputs": [],
   "source": [
    "from contextlib import contextmanager\n",
    "\n",
    "@contextmanager\n",
    "def file_manager(name, mode):\n",
    "    try:\n",
    "        f = open(name, mode)\n",
    "        yield f\n",
    "    finally:\n",
    "        f.close()\n",
    "        \n",
    "with file_manager('test.txt', 'w') as f:\n",
    "    f.write('hello world')"
   ]
  },
  {
   "cell_type": "code",
   "execution_count": null,
   "metadata": {},
   "outputs": [],
   "source": []
  }
 ],
 "metadata": {
  "kernelspec": {
   "display_name": "Python [conda env:cs231n]",
   "language": "python",
   "name": "conda-env-cs231n-py"
  },
  "language_info": {
   "codemirror_mode": {
    "name": "ipython",
    "version": 3
   },
   "file_extension": ".py",
   "mimetype": "text/x-python",
   "name": "python",
   "nbconvert_exporter": "python",
   "pygments_lexer": "ipython3",
   "version": "3.6.5"
  }
 },
 "nbformat": 4,
 "nbformat_minor": 2
}
